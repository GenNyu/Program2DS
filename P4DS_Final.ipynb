{
 "cells": [
  {
   "cell_type": "markdown",
   "metadata": {},
   "source": [
    "# <center>FINAL PROJECT: Heart Attack Analysis & Prediction Dataset<center>"
   ]
  },
  {
   "cell_type": "markdown",
   "metadata": {},
   "source": [
    "| FULL NAME             | ID NUMBER |\n",
    "| :-----------          |     :----:|\n",
    "| Nguyễn Phương Thảo  | 21120336  |\n",
    "| Phan Cao Nguyên| 21120299  |\n",
    "| Lê Trần Minh Khuê  | 21120279  |uê"
   ]
  },
  {
   "cell_type": "markdown",
   "metadata": {},
   "source": [
    "---"
   ]
  },
  {
   "cell_type": "markdown",
   "metadata": {},
   "source": [
    "## Contents\n",
    "1. [Introduction](#1-introduction)  \n",
    "    1.1. [Dataset information](#11-dataset-information)  \n",
    "    1.2. [Attribute information](#12-attribute-information)  \n",
    "    1.3. [Why we select this dataset](#13-why-we-select-this-dataset)  \n",
    "2. [Data exploration](#2-data-exploration)  \n",
    "    2.1. [Import Lib](#21-import-lib)  \n",
    "    2.2. [How many rows and columns](#22-how-many-rows-and-columns)  \n",
    "    2.3. [Rows exploration](#23-rows-exploration)  \n",
    "    2.4. [Columns exploration](#24-columns-exploration)  \n",
    "3. [Frame the problem](#3-frame-the-problems---ask-meaningful-questions)  \n",
    "4. [Preprocessing](#4-preprocessing)  \n",
    "5. [Analyzing to answer questions](#5-analyzing-to-answer-questions)  \n",
    "6. [Reflection](#6-reflection)  \n",
    "7. [References](#7-references)  "
   ]
  },
  {
   "cell_type": "markdown",
   "metadata": {},
   "source": [
    "## 1. Introduction"
   ]
  },
  {
   "cell_type": "markdown",
   "metadata": {},
   "source": [
    "### 1.1. Dataset information"
   ]
  },
  {
   "cell_type": "markdown",
   "metadata": {},
   "source": [
    "**Subject of this data:**\n",
    "The dataset is the `Cleveland Heart Disease dataset` taken from the UCI repository. The dataset consists of 303 individuals’ data and it can be accessed in the UCI Machine Learning repository site under the \"Data Folder\".  \n",
    "\n",
    "**Acknowledgements**\n",
    "\n",
    "- ***Creators:***\n",
    "    - Hungarian Institute of Cardiology. Budapest: Andras Janosi, M.D.\n",
    "    - University Hospital, Zurich, Switzerland: William Steinbrunn, M.D.\n",
    "    - University Hospital, Basel, Switzerland: Matthias Pfisterer, M.D.\n",
    "    - V.A. Medical Center, Long Beach and Cleveland Clinic Foundation: Robert Detrano, M.D., Ph.D.\n",
    "\n",
    "- ***Donor:***\n",
    "    - David W. Aha (aha '@' ics.uci.edu) (714) 856-8779\n",
    "\n",
    "**License:**\n",
    "\n",
    "This dataset is licensed under a Creative Commons Attribution 4.0 International (CC BY 4.0) license.\n",
    "\n",
    "This allows for the sharing and adaptation of the datasets for any purpose, provided that the appropriate credit is given.\n",
    "\n",
    "**Source:**\n",
    "\n",
    "**Original data:** [Dataset from UCI Machine Learning repository](https://archive.ics.uci.edu/ml/datasets/Heart+Disease)\n",
    "\n",
    "*In this project, we will use the processed version of the data posted in the following Kaggle dataset.*\n",
    "[Heart Attack Analysis & Prediction Dataset](https://www.kaggle.com/datasets/rashikrahmanpritom/heart-attack-analysis-prediction-dataset?resource=download&select=heart.csv)   "
   ]
  },
  {
   "cell_type": "markdown",
   "metadata": {},
   "source": [
    "### 1.2. Attribute information"
   ]
  },
  {
   "cell_type": "markdown",
   "metadata": {},
   "source": [
    "Cleveland Heart Disease Dataset (Decryption on attributes from data source webpage):\n",
    "- `processed.cleveland.data`:\n",
    "    - `age`: Age of the person (in years - integer value)\n",
    "    - `Sex`: Gender of the person (1 = male, 0 = female)\n",
    "    - `cp`: Chest Pain type \n",
    "        - Value 1: typical angina\n",
    "        - Value 2: atypical angina\n",
    "        - Value 3: non-anginal pain\n",
    "        - Value 4: asymptomatic\n",
    "    - `trtbps`: resting blood pressure (in mmHg on admission to the hospital - integer value)\n",
    "    - `chol`: serum cholestoral (in mg/dl fetched via BMI sensor - integer value)\n",
    "    - `fbs`: fasting blood sugar > 120 mg/dl (1 = true; 0 = false)\n",
    "    - `restecg`: resting electrocardiographic results\n",
    "        - Value 0: normal\n",
    "        - Value 1: having ST-T wave abnormality (T wave inversions and/or ST elevation or depression of > 0.05 mV)\n",
    "        - Value 2: showing probable or definite left ventricular hypertrophy by Estes' criteria\n",
    "    - `thalach`: maximum heart rate achieved (integer value)\n",
    "    - `exang`: exercise induced angina (1 = yes; 0 = no)\n",
    "    - `oldpeak`: previous peak - ST depression induced by exercise relative to rest (integer value)\n",
    "    - `slp`: the slope of the peak exercise ST segment\n",
    "        - Value 1: upsloping\n",
    "        - Value 2: flat\n",
    "        - Value 3: downsloping\n",
    "    - `ca`: number of major vessels (0 - 3)\n",
    "    - `thal`: thal rate\n",
    "        - 3 = normal; \n",
    "        - 6 = fixed defect; \n",
    "        - 7 = reversable defect\n",
    "    - `output`: target variable - diagnosis of heart disease (integer value)\n",
    "        diagnosis of heart disease (angiographic disease status)\n",
    "        -- Value 0: < 50% diameter narrowing\n",
    "        -- Value 1: > 50% diameter narrowing\n",
    "        (in any major vessel: attributes 59 through 68 are vessels)\n",
    "        \n",
    "#### NOTE:\n"
   ]
  },
  {
   "cell_type": "markdown",
   "metadata": {},
   "source": [
    "### 1.3. Why we select this dataset?\n",
    "\n",
    "Cardiovascular diseases, including heart disease, rank among the leading causes of death worldwide. The prevalence of heart-related conditions such as angina, myocardial infarction, and stroke makes it a crucial area of focus in medical research. Understanding the contributing factors to heart disease and the ability to predict the risk of its occurrence are paramount in improving intervention and prevention strategies.\n",
    "\n",
    "The dataset contains valuable information about various factors and clinical parameters related to heart disease. It includes both numerical and categorical features, such as age, sex, cholesterol levels, and electrocardiographic measurements, making it suitable for analyzing and predicting heart disease."
   ]
  },
  {
   "cell_type": "markdown",
   "metadata": {},
   "source": [
    "## 2. Data Exploration"
   ]
  },
  {
   "cell_type": "markdown",
   "metadata": {},
   "source": [
    "### 2.1. IMPORT LIB"
   ]
  },
  {
   "cell_type": "code",
   "execution_count": 1,
   "metadata": {},
   "outputs": [],
   "source": [
    "# import Lib\n",
    "\n",
    "#   to download data\n",
    "import os\n",
    "import urllib.request\n",
    "#\n",
    "import pandas as pd\n",
    "import numpy as np\n",
    "import re\n",
    "# visualization \n",
    "import matplotlib.pyplot as plt\n",
    "import seaborn as sns\n",
    "from matplotlib import colors\n",
    "from matplotlib.colors import ListedColormap\n",
    "%matplotlib inline\n"
   ]
  },
  {
   "cell_type": "markdown",
   "metadata": {},
   "source": [
    "### 2.2. Downloading data"
   ]
  },
  {
   "cell_type": "code",
   "execution_count": 2,
   "metadata": {},
   "outputs": [],
   "source": [
    "# # Create a folder if it does not exist\n",
    "# data_folder = \"Data\"\n",
    "# os.makedirs(data_folder, exist_ok=True)\n",
    "\n",
    "# # Path to the \"processed.cleveland.data\" file in the \"Data\" folder\n",
    "# file_path = os.path.join(data_folder, \"processed.cleveland.data\")\n",
    "\n",
    "# # Check if the file exists\n",
    "# if not os.path.exists(file_path):\n",
    "#     # If not, download it from the URL and save it to the \"Data\" folder\n",
    "#     url = \"http://archive.ics.uci.edu/ml/machine-learning-databases/heart-disease/processed.cleveland.data\"\n",
    "#     urllib.request.urlretrieve(url, file_path)\n"
   ]
  },
  {
   "cell_type": "code",
   "execution_count": 3,
   "metadata": {},
   "outputs": [
    {
     "data": {
      "text/html": [
       "<div>\n",
       "<style scoped>\n",
       "    .dataframe tbody tr th:only-of-type {\n",
       "        vertical-align: middle;\n",
       "    }\n",
       "\n",
       "    .dataframe tbody tr th {\n",
       "        vertical-align: top;\n",
       "    }\n",
       "\n",
       "    .dataframe thead th {\n",
       "        text-align: right;\n",
       "    }\n",
       "</style>\n",
       "<table border=\"1\" class=\"dataframe\">\n",
       "  <thead>\n",
       "    <tr style=\"text-align: right;\">\n",
       "      <th></th>\n",
       "      <th>age</th>\n",
       "      <th>sex</th>\n",
       "      <th>cp</th>\n",
       "      <th>trtbps</th>\n",
       "      <th>chol</th>\n",
       "      <th>fbs</th>\n",
       "      <th>restecg</th>\n",
       "      <th>thalachh</th>\n",
       "      <th>exng</th>\n",
       "      <th>oldpeak</th>\n",
       "      <th>slp</th>\n",
       "      <th>caa</th>\n",
       "      <th>thall</th>\n",
       "      <th>output</th>\n",
       "    </tr>\n",
       "  </thead>\n",
       "  <tbody>\n",
       "    <tr>\n",
       "      <th>0</th>\n",
       "      <td>63</td>\n",
       "      <td>1</td>\n",
       "      <td>3</td>\n",
       "      <td>145</td>\n",
       "      <td>233</td>\n",
       "      <td>1</td>\n",
       "      <td>0</td>\n",
       "      <td>150</td>\n",
       "      <td>0</td>\n",
       "      <td>2.3</td>\n",
       "      <td>0</td>\n",
       "      <td>0</td>\n",
       "      <td>1</td>\n",
       "      <td>1</td>\n",
       "    </tr>\n",
       "    <tr>\n",
       "      <th>1</th>\n",
       "      <td>37</td>\n",
       "      <td>1</td>\n",
       "      <td>2</td>\n",
       "      <td>130</td>\n",
       "      <td>250</td>\n",
       "      <td>0</td>\n",
       "      <td>1</td>\n",
       "      <td>187</td>\n",
       "      <td>0</td>\n",
       "      <td>3.5</td>\n",
       "      <td>0</td>\n",
       "      <td>0</td>\n",
       "      <td>2</td>\n",
       "      <td>1</td>\n",
       "    </tr>\n",
       "    <tr>\n",
       "      <th>2</th>\n",
       "      <td>41</td>\n",
       "      <td>0</td>\n",
       "      <td>1</td>\n",
       "      <td>130</td>\n",
       "      <td>204</td>\n",
       "      <td>0</td>\n",
       "      <td>0</td>\n",
       "      <td>172</td>\n",
       "      <td>0</td>\n",
       "      <td>1.4</td>\n",
       "      <td>2</td>\n",
       "      <td>0</td>\n",
       "      <td>2</td>\n",
       "      <td>1</td>\n",
       "    </tr>\n",
       "    <tr>\n",
       "      <th>3</th>\n",
       "      <td>56</td>\n",
       "      <td>1</td>\n",
       "      <td>1</td>\n",
       "      <td>120</td>\n",
       "      <td>236</td>\n",
       "      <td>0</td>\n",
       "      <td>1</td>\n",
       "      <td>178</td>\n",
       "      <td>0</td>\n",
       "      <td>0.8</td>\n",
       "      <td>2</td>\n",
       "      <td>0</td>\n",
       "      <td>2</td>\n",
       "      <td>1</td>\n",
       "    </tr>\n",
       "    <tr>\n",
       "      <th>4</th>\n",
       "      <td>57</td>\n",
       "      <td>0</td>\n",
       "      <td>0</td>\n",
       "      <td>120</td>\n",
       "      <td>354</td>\n",
       "      <td>0</td>\n",
       "      <td>1</td>\n",
       "      <td>163</td>\n",
       "      <td>1</td>\n",
       "      <td>0.6</td>\n",
       "      <td>2</td>\n",
       "      <td>0</td>\n",
       "      <td>2</td>\n",
       "      <td>1</td>\n",
       "    </tr>\n",
       "  </tbody>\n",
       "</table>\n",
       "</div>"
      ],
      "text/plain": [
       "   age  sex  cp  trtbps  chol  fbs  restecg  thalachh  exng  oldpeak  slp  \\\n",
       "0   63    1   3     145   233    1        0       150     0      2.3    0   \n",
       "1   37    1   2     130   250    0        1       187     0      3.5    0   \n",
       "2   41    0   1     130   204    0        0       172     0      1.4    2   \n",
       "3   56    1   1     120   236    0        1       178     0      0.8    2   \n",
       "4   57    0   0     120   354    0        1       163     1      0.6    2   \n",
       "\n",
       "   caa  thall  output  \n",
       "0    0      1       1  \n",
       "1    0      2       1  \n",
       "2    0      2       1  \n",
       "3    0      2       1  \n",
       "4    0      2       1  "
      ]
     },
     "execution_count": 3,
     "metadata": {},
     "output_type": "execute_result"
    }
   ],
   "source": [
    "# # Loading data into dataframe\n",
    "# heart_df = pd.read_csv(file_path,header=None)\n",
    "heart_df = pd.read_csv(\"Data/heart.csv\")\n",
    "heart_df.head()"
   ]
  },
  {
   "cell_type": "markdown",
   "metadata": {},
   "source": [
    "As per the provided information, we will proceed to rename the columns to their accurate titles corresponding to the values they hold in the respective columns."
   ]
  },
  {
   "cell_type": "code",
   "execution_count": 4,
   "metadata": {},
   "outputs": [
    {
     "data": {
      "text/html": [
       "<div>\n",
       "<style scoped>\n",
       "    .dataframe tbody tr th:only-of-type {\n",
       "        vertical-align: middle;\n",
       "    }\n",
       "\n",
       "    .dataframe tbody tr th {\n",
       "        vertical-align: top;\n",
       "    }\n",
       "\n",
       "    .dataframe thead th {\n",
       "        text-align: right;\n",
       "    }\n",
       "</style>\n",
       "<table border=\"1\" class=\"dataframe\">\n",
       "  <thead>\n",
       "    <tr style=\"text-align: right;\">\n",
       "      <th></th>\n",
       "      <th>age</th>\n",
       "      <th>sex</th>\n",
       "      <th>cp</th>\n",
       "      <th>trtbps</th>\n",
       "      <th>chol</th>\n",
       "      <th>fbs</th>\n",
       "      <th>restecg</th>\n",
       "      <th>thalach</th>\n",
       "      <th>exang</th>\n",
       "      <th>oldpeak</th>\n",
       "      <th>slp</th>\n",
       "      <th>ca</th>\n",
       "      <th>thal</th>\n",
       "      <th>num</th>\n",
       "    </tr>\n",
       "  </thead>\n",
       "  <tbody>\n",
       "    <tr>\n",
       "      <th>0</th>\n",
       "      <td>63</td>\n",
       "      <td>1</td>\n",
       "      <td>3</td>\n",
       "      <td>145</td>\n",
       "      <td>233</td>\n",
       "      <td>1</td>\n",
       "      <td>0</td>\n",
       "      <td>150</td>\n",
       "      <td>0</td>\n",
       "      <td>2.3</td>\n",
       "      <td>0</td>\n",
       "      <td>0</td>\n",
       "      <td>1</td>\n",
       "      <td>1</td>\n",
       "    </tr>\n",
       "    <tr>\n",
       "      <th>1</th>\n",
       "      <td>37</td>\n",
       "      <td>1</td>\n",
       "      <td>2</td>\n",
       "      <td>130</td>\n",
       "      <td>250</td>\n",
       "      <td>0</td>\n",
       "      <td>1</td>\n",
       "      <td>187</td>\n",
       "      <td>0</td>\n",
       "      <td>3.5</td>\n",
       "      <td>0</td>\n",
       "      <td>0</td>\n",
       "      <td>2</td>\n",
       "      <td>1</td>\n",
       "    </tr>\n",
       "    <tr>\n",
       "      <th>2</th>\n",
       "      <td>41</td>\n",
       "      <td>0</td>\n",
       "      <td>1</td>\n",
       "      <td>130</td>\n",
       "      <td>204</td>\n",
       "      <td>0</td>\n",
       "      <td>0</td>\n",
       "      <td>172</td>\n",
       "      <td>0</td>\n",
       "      <td>1.4</td>\n",
       "      <td>2</td>\n",
       "      <td>0</td>\n",
       "      <td>2</td>\n",
       "      <td>1</td>\n",
       "    </tr>\n",
       "    <tr>\n",
       "      <th>3</th>\n",
       "      <td>56</td>\n",
       "      <td>1</td>\n",
       "      <td>1</td>\n",
       "      <td>120</td>\n",
       "      <td>236</td>\n",
       "      <td>0</td>\n",
       "      <td>1</td>\n",
       "      <td>178</td>\n",
       "      <td>0</td>\n",
       "      <td>0.8</td>\n",
       "      <td>2</td>\n",
       "      <td>0</td>\n",
       "      <td>2</td>\n",
       "      <td>1</td>\n",
       "    </tr>\n",
       "    <tr>\n",
       "      <th>4</th>\n",
       "      <td>57</td>\n",
       "      <td>0</td>\n",
       "      <td>0</td>\n",
       "      <td>120</td>\n",
       "      <td>354</td>\n",
       "      <td>0</td>\n",
       "      <td>1</td>\n",
       "      <td>163</td>\n",
       "      <td>1</td>\n",
       "      <td>0.6</td>\n",
       "      <td>2</td>\n",
       "      <td>0</td>\n",
       "      <td>2</td>\n",
       "      <td>1</td>\n",
       "    </tr>\n",
       "  </tbody>\n",
       "</table>\n",
       "</div>"
      ],
      "text/plain": [
       "   age  sex  cp  trtbps  chol  fbs  restecg  thalach  exang  oldpeak  slp  ca  \\\n",
       "0   63    1   3     145   233    1        0      150      0      2.3    0   0   \n",
       "1   37    1   2     130   250    0        1      187      0      3.5    0   0   \n",
       "2   41    0   1     130   204    0        0      172      0      1.4    2   0   \n",
       "3   56    1   1     120   236    0        1      178      0      0.8    2   0   \n",
       "4   57    0   0     120   354    0        1      163      1      0.6    2   0   \n",
       "\n",
       "   thal  num  \n",
       "0     1    1  \n",
       "1     2    1  \n",
       "2     2    1  \n",
       "3     2    1  \n",
       "4     2    1  "
      ]
     },
     "execution_count": 4,
     "metadata": {},
     "output_type": "execute_result"
    }
   ],
   "source": [
    "# Rename columns\n",
    "heart_df.columns = ['age', 'sex', 'cp', 'trtbps', 'chol', 'fbs', 'restecg', 'thalach', 'exang', 'oldpeak', 'slp', 'ca', 'thal', 'num']\n",
    "heart_df.head()"
   ]
  },
  {
   "cell_type": "markdown",
   "metadata": {},
   "source": [
    "### 2.3. How many rows and columns?\n",
    "Use pandas to find the number of rows and columns, then store in 2 variable num_rows and num_cols."
   ]
  },
  {
   "cell_type": "code",
   "execution_count": 5,
   "metadata": {},
   "outputs": [
    {
     "name": "stdout",
     "output_type": "stream",
     "text": [
      "Number of rows: 303\n",
      "Number of columns: 14\n"
     ]
    }
   ],
   "source": [
    "num_rows, num_cols = heart_df.shape\n",
    "print('Number of rows:',num_rows)\n",
    "print('Number of columns:',num_cols)"
   ]
  },
  {
   "cell_type": "markdown",
   "metadata": {},
   "source": [
    "### 2.4. Rows exploration"
   ]
  },
  {
   "cell_type": "code",
   "execution_count": 6,
   "metadata": {},
   "outputs": [
    {
     "data": {
      "text/html": [
       "<div>\n",
       "<style scoped>\n",
       "    .dataframe tbody tr th:only-of-type {\n",
       "        vertical-align: middle;\n",
       "    }\n",
       "\n",
       "    .dataframe tbody tr th {\n",
       "        vertical-align: top;\n",
       "    }\n",
       "\n",
       "    .dataframe thead th {\n",
       "        text-align: right;\n",
       "    }\n",
       "</style>\n",
       "<table border=\"1\" class=\"dataframe\">\n",
       "  <thead>\n",
       "    <tr style=\"text-align: right;\">\n",
       "      <th></th>\n",
       "      <th>age</th>\n",
       "      <th>sex</th>\n",
       "      <th>cp</th>\n",
       "      <th>trtbps</th>\n",
       "      <th>chol</th>\n",
       "      <th>fbs</th>\n",
       "      <th>restecg</th>\n",
       "      <th>thalach</th>\n",
       "      <th>exang</th>\n",
       "      <th>oldpeak</th>\n",
       "      <th>slp</th>\n",
       "      <th>ca</th>\n",
       "      <th>thal</th>\n",
       "      <th>num</th>\n",
       "    </tr>\n",
       "  </thead>\n",
       "  <tbody>\n",
       "    <tr>\n",
       "      <th>40</th>\n",
       "      <td>51</td>\n",
       "      <td>0</td>\n",
       "      <td>2</td>\n",
       "      <td>140</td>\n",
       "      <td>308</td>\n",
       "      <td>0</td>\n",
       "      <td>0</td>\n",
       "      <td>142</td>\n",
       "      <td>0</td>\n",
       "      <td>1.5</td>\n",
       "      <td>2</td>\n",
       "      <td>1</td>\n",
       "      <td>2</td>\n",
       "      <td>1</td>\n",
       "    </tr>\n",
       "  </tbody>\n",
       "</table>\n",
       "</div>"
      ],
      "text/plain": [
       "    age  sex  cp  trtbps  chol  fbs  restecg  thalach  exang  oldpeak  slp  \\\n",
       "40   51    0   2     140   308    0        0      142      0      1.5    2   \n",
       "\n",
       "    ca  thal  num  \n",
       "40   1     2    1  "
      ]
     },
     "execution_count": 6,
     "metadata": {},
     "output_type": "execute_result"
    }
   ],
   "source": [
    "heart_df.sample()"
   ]
  },
  {
   "cell_type": "markdown",
   "metadata": {},
   "source": [
    "#### 2.4.1. Meaning of each row\n",
    "Each row in the dataset represents an individual, and the values in each column provide information about various health-related factors for that person. The goal is often to analyze these features to predict the likelihood or presence of heart disease."
   ]
  },
  {
   "cell_type": "markdown",
   "metadata": {},
   "source": [
    "#### 2.4.2. Are there duplicated rows?\n",
    "Using Pandas `duplicated()` to check for any duplicate rows.\n",
    "- Declare the variable `have_duplicated_rows` to store the number of duplicated rows.\n",
    "- If `have_duplicated_rows` > 0:\n",
    "    - Print these duplicate rows and then drop them.\n",
    "    - Check: If `have_duplicated_rows` == 0 (False), then there are no duplicated rows.\n",
    "- Otherwise, proceed to the next part."
   ]
  },
  {
   "cell_type": "code",
   "execution_count": 7,
   "metadata": {},
   "outputs": [
    {
     "data": {
      "text/plain": [
       "1"
      ]
     },
     "execution_count": 7,
     "metadata": {},
     "output_type": "execute_result"
    }
   ],
   "source": [
    "have_duplicated_rows = heart_df.duplicated().sum()\n",
    "have_duplicated_rows"
   ]
  },
  {
   "cell_type": "code",
   "execution_count": 8,
   "metadata": {},
   "outputs": [
    {
     "name": "stdout",
     "output_type": "stream",
     "text": [
      "     age  sex  cp  trtbps  chol  fbs  restecg  thalach  exang  oldpeak  slp  \\\n",
      "164   38    1   2     138   175    0        1      173      0      0.0    2   \n",
      "\n",
      "     ca  thal  num  \n",
      "164   4     2    1  \n"
     ]
    }
   ],
   "source": [
    "if have_duplicated_rows > 0: \n",
    "    duplicates = heart_df[heart_df.duplicated()]\n",
    "    print(duplicates) \n",
    "    \n",
    "    # remove duplicates\n",
    "    heart_df.drop_duplicates(inplace=True)\n",
    "    \n",
    "    # update 'have_duplicated_rows'\n",
    "    have_duplicated_rows = heart_df.duplicated().sum()\n",
    "\n",
    "    # TEST\n",
    "    assert have_duplicated_rows == False\n",
    "    "
   ]
  },
  {
   "cell_type": "markdown",
   "metadata": {},
   "source": [
    "### 2.4. Columns exploration\n"
   ]
  },
  {
   "cell_type": "markdown",
   "metadata": {},
   "source": [
    "#### 2.4.1. Meaning of each columns\n",
    "- `age`: Age of the person (in years - integer value)\n",
    "- `Sex`: Gender of the person (1 = male, 0 = female)\n",
    "- `cp`: Chest Pain type (0 = Typical Angina, 1 = Atypical Angina, 2 = Non-anginal Pain, 3 = Asymptomatic)\n",
    "- `trtbps`: resting blood pressure (in mmHg on admission to the hospital - integer value)\n",
    "- `chol`: serum cholestoral (in mg/dl fetched via BMI sensor - integer value)\n",
    "- `fbs`: fasting blood sugar > 120 mg/dl (1 = true; 0 = false)\n",
    "- `restecg`: resting electrocardiographic results (0 = Normal, 1 = ST-T wave normality, 2 = Left ventricular hypertrophy)\n",
    "- `thalach`: maximum heart rate achieved (integer value)\n",
    "- `exang`: exercise induced angina (1 = yes; 0 = no)\n",
    "- `oldpeak`: previous peak - ST depression induced by exercise relative to rest\n",
    "- `slp`: the slope of the peak exercise ST segment (1: upsloping, 2: flat, 3: downsloping)\n",
    "- `ca`: number of major vessels (0 - 3)\n",
    "- `thal`: thal rate (3 = normal; 6 = fixed defect; 7 = reversable defect) - mapping to 0,1,2.\n",
    "- `num`: target variable - diagnosis of heart disease (integer value) (0: < 50% diameter narrowing; 1: > 50% diameter narrowing)"
   ]
  },
  {
   "cell_type": "markdown",
   "metadata": {},
   "source": [
    "#### 2.4.2. Current data type? Are there inapproriate data type?\n",
    "We check the data type of each element in a column and then store the results in a series named `col_dtypes`."
   ]
  },
  {
   "cell_type": "code",
   "execution_count": 9,
   "metadata": {},
   "outputs": [
    {
     "name": "stdout",
     "output_type": "stream",
     "text": [
      "<class 'pandas.core.frame.DataFrame'>\n",
      "Index: 302 entries, 0 to 302\n",
      "Data columns (total 14 columns):\n",
      " #   Column   Non-Null Count  Dtype  \n",
      "---  ------   --------------  -----  \n",
      " 0   age      302 non-null    int64  \n",
      " 1   sex      302 non-null    int64  \n",
      " 2   cp       302 non-null    int64  \n",
      " 3   trtbps   302 non-null    int64  \n",
      " 4   chol     302 non-null    int64  \n",
      " 5   fbs      302 non-null    int64  \n",
      " 6   restecg  302 non-null    int64  \n",
      " 7   thalach  302 non-null    int64  \n",
      " 8   exang    302 non-null    int64  \n",
      " 9   oldpeak  302 non-null    float64\n",
      " 10  slp      302 non-null    int64  \n",
      " 11  ca       302 non-null    int64  \n",
      " 12  thal     302 non-null    int64  \n",
      " 13  num      302 non-null    int64  \n",
      "dtypes: float64(1), int64(13)\n",
      "memory usage: 35.4 KB\n"
     ]
    }
   ],
   "source": [
    "col_dtypes = heart_df.info()"
   ]
  },
  {
   "cell_type": "markdown",
   "metadata": {},
   "source": [
    "#### 2.4.3. Numeric columns - How are values distributed?\n"
   ]
  },
  {
   "cell_type": "markdown",
   "metadata": {},
   "source": [
    "**Missing ratio**"
   ]
  },
  {
   "cell_type": "markdown",
   "metadata": {},
   "source": [
    "**Min, max, quantiles**"
   ]
  },
  {
   "cell_type": "markdown",
   "metadata": {},
   "source": [
    "**Are they abnormal?**"
   ]
  },
  {
   "cell_type": "markdown",
   "metadata": {},
   "source": [
    "#### 2.4.3. Categorical columns - How are values distributed?\n"
   ]
  },
  {
   "cell_type": "markdown",
   "metadata": {},
   "source": [
    "**Missing ratio**"
   ]
  },
  {
   "cell_type": "markdown",
   "metadata": {},
   "source": [
    "**Different values? Show a few**"
   ]
  },
  {
   "cell_type": "markdown",
   "metadata": {},
   "source": [
    "**Are they abnormal?**"
   ]
  },
  {
   "cell_type": "markdown",
   "metadata": {},
   "source": [
    "## 3. Frame the problems - Ask meaningful questions"
   ]
  },
  {
   "cell_type": "markdown",
   "metadata": {},
   "source": [
    "### Question 1: \n",
    "#### Benefits of finding the answer:"
   ]
  },
  {
   "cell_type": "markdown",
   "metadata": {},
   "source": [
    "### Question 2: \n",
    "#### Benefits of finding the answer:"
   ]
  },
  {
   "cell_type": "markdown",
   "metadata": {},
   "source": [
    "## 4. Preprocessing"
   ]
  },
  {
   "cell_type": "markdown",
   "metadata": {},
   "source": [
    "## 5. Analyzing to answer questions"
   ]
  },
  {
   "cell_type": "markdown",
   "metadata": {},
   "source": [
    "## 6. Reflection:"
   ]
  },
  {
   "cell_type": "markdown",
   "metadata": {},
   "source": [
    "## 7. References:\n",
    "- Data source: Janosi,Andras, Steinbrunn,William, Pfisterer,Matthias, and Detrano,Robert. (1988). Heart Disease. UCI Machine Learning Repository. https://doi.org/10.24432/C52P4X."
   ]
  }
 ],
 "metadata": {
  "kernelspec": {
   "display_name": "Python 3",
   "language": "python",
   "name": "python3"
  },
  "language_info": {
   "codemirror_mode": {
    "name": "ipython",
    "version": 3
   },
   "file_extension": ".py",
   "mimetype": "text/x-python",
   "name": "python",
   "nbconvert_exporter": "python",
   "pygments_lexer": "ipython3",
   "version": "3.11.7"
  }
 },
 "nbformat": 4,
 "nbformat_minor": 2
}
